{
 "cells": [
  {
   "cell_type": "markdown",
   "metadata": {},
   "source": [
    "Part 2: digit autoencoder \n",
    "\n",
    "loading prerequisites and dataset\n",
    "\n",
    "again getting help from ChatGPT and Isaiah Hazelwood"
   ]
  },
  {
   "cell_type": "code",
   "execution_count": 2,
   "metadata": {},
   "outputs": [],
   "source": [
    "from nn import nn \n",
    "from nn import io \n",
    "from nn import preprocess\n",
    "import sklearn\n",
    "import numpy as np\n",
    "import matplotlib.pyplot as plt "
   ]
  },
  {
   "cell_type": "code",
   "execution_count": 4,
   "metadata": {},
   "outputs": [],
   "source": [
    "#loading digits data\n",
    "import sklearn.datasets\n",
    "\n",
    "#this is a small dataset of handwritten digit images used for classification, great for learning and testing ML models quickly without needing to download anything\n",
    "digits_data = sklearn.datasets.load_digits()"
   ]
  },
  {
   "cell_type": "code",
   "execution_count": 5,
   "metadata": {},
   "outputs": [],
   "source": [
    "#reshape data for processing\n",
    "#there are 1797 images, each image is a 8x8 grayscale image. it's flattened into a 1D array of 64 pixel values... so you get shape 1797, 64. I am reshaping because my model expects input to be a vector... -> shape = features, 1 #a column vector\n",
    "digits_input = digits_data[\"data\"].reshape(1797, 64, 1)\n",
    "digits_label = digits_data[\"target\"].reshape(1797, 1, 1)"
   ]
  },
  {
   "cell_type": "code",
   "execution_count": null,
   "metadata": {},
   "outputs": [],
   "source": [
    "#split data into training and validation sets, a common split is 60% for training, 20% for validation and 20% for test\n",
    "\"\"\"\n",
    "np.random.permutation shuffles the rows of digits_input. important so that the model doesn't see samples in any biased order e.g. first 0s then 1s etc. \n",
    "/16.0 scales pixel values from 0-16 to 0-1, so normalized. \"\"\"\n",
    "digits_input_permuted = np.random.permutation(digits_input) / 16.0  \n",
    "\n",
    "#let's say the number of samples is 1797. so I am slicing the data into training set first 70% from index 0 to 1256\n",
    "digits_input_train = digits_input_permuted[:digits_input.shape[0] * 7 // 10, :]\n",
    "\n",
    "#now the validation set takes the last 30%, so everyithing from index 1258 to the end\n",
    "digits_input_val = digits_input_permuted[digits_input.shape[0] * 7 // 10:, :]"
   ]
  },
  {
   "cell_type": "code",
   "execution_count": null,
   "metadata": {},
   "outputs": [],
   "source": []
  }
 ],
 "metadata": {
  "kernelspec": {
   "display_name": "base",
   "language": "python",
   "name": "python3"
  },
  "language_info": {
   "codemirror_mode": {
    "name": "ipython",
    "version": 3
   },
   "file_extension": ".py",
   "mimetype": "text/x-python",
   "name": "python",
   "nbconvert_exporter": "python",
   "pygments_lexer": "ipython3",
   "version": "3.12.2"
  }
 },
 "nbformat": 4,
 "nbformat_minor": 2
}
