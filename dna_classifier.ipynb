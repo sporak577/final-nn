{
 "cells": [
  {
   "cell_type": "markdown",
   "metadata": {},
   "source": [
    "Part 3: DNA binding classifier\n",
    "\n",
    "again, help from Isaiah Hazelwood and ChatGPT \n",
    "\n",
    "loading prerequisites and data"
   ]
  },
  {
   "cell_type": "code",
   "execution_count": null,
   "metadata": {},
   "outputs": [],
   "source": [
    "from nn import nn \n",
    "from nn import io \n",
    "from nn import preprocess\n",
    "import sklearn\n",
    "import numpy as np \n",
    "import matplotlib.pyplot as plt"
   ]
  },
  {
   "cell_type": "code",
   "execution_count": null,
   "metadata": {},
   "outputs": [],
   "source": [
    "positive_seqs = io.read_text_file(\"./data/rap1-lieb-positives.txt\")\n",
    "negative_seqs = io.read_fasta_file(\"./data/yeast-upstream-1k-negative.fa\")\n",
    "#negative sequences are 1000 characters while positives are 17 characters long\n",
    "#need to have same length of positive and negative examples\n",
    "#need to randomly select 17-character long substring from each negative sequence\n",
    "np.random.seed(42)\n",
    "negative_seqs_trimmed = []\n",
    "for negative_seq in negative_seqs:\n",
    "    i = np.random.randint(len(negative_seqs) - 17 + 1) #random starting position\n",
    "    negative_seqs_trimmed.append(negative_seq[i:i+17])\n",
    "\n",
    "#generate a full sequence list \n",
    "seqs = positive_seqs + negative_seqs_trimmed\n",
    "labels = ([True] * len(positive_seqs)) + ([False] * len(negative_seqs_trimmed))\n",
    "\n",
    "#randomly sample sequences to account for class imbalance \n",
    "sampled_seqs, sampled_labels = preprocess.sample_seqs(seqs, labels)\n",
    "\n",
    "#now I'm encoding the sequences\n",
    "sample_seqs_encoded = preprocess.one_hot_encode_seqs(sampled_seqs)\n",
    "\n",
    "#randomly split sequences into training and validation sets\n",
    "indexes_permuted = np.random.permutation(len(sampled_labels))\n",
    "train_indices = indexes_permuted[:len(sample_seqs_encoded) * 7 // 10]\n",
    "val_indices = indexes_permuted[len(sample_seqs_encoded) * 7 // 10:]\n",
    "seqs_train = np.array([sample_seqs_encoded[i] for i in train_indices]).reshape((-1, 68, 1))"
   ]
  },
  {
   "cell_type": "markdown",
   "metadata": {},
   "source": []
  }
 ],
 "metadata": {
  "kernelspec": {
   "display_name": "base",
   "language": "python",
   "name": "python3"
  },
  "language_info": {
   "name": "python",
   "version": "3.12.2"
  }
 },
 "nbformat": 4,
 "nbformat_minor": 2
}
